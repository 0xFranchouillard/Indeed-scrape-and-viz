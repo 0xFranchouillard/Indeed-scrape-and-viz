{
 "cells": [
  {
   "cell_type": "code",
   "execution_count": 99,
   "outputs": [
    {
     "name": "stdout",
     "output_type": "stream",
     "text": [
      "['admin', 'api_prod', 'config', 'edumalin', 'exercices', 'indeed_db', 'local', 'series', 'ytb']\n",
      "Duplicité de l'offre  OFFRE D’EMPLOI : MEDIA TRADER et DATA ANALYST F/H\n",
      "Duplicité de l'offre  Data analyst (H/F)\n",
      "Duplicité de l'offre  Data Analyst H/F\n",
      "Duplicité de l'offre  Data Analystdddd H/F\n",
      "Duplicité de l'offre  Data Analyste H/F\n",
      "Duplicité de l'offre  DATA-ANALYST (F/H)\n",
      "Duplicité de l'offre  Data Analyst H/F\n",
      "Duplicité de l'offre  Business Analyst/ Data Management (bilingue) / Freelance\n",
      "Duplicité de l'offre  Data Analyst dans une startup\n",
      "Duplicité de l'offre  Analyste de données linguistiques sur projets clients F/H\n",
      "Duplicité de l'offre  Analyste informatique SAP MASTER DATA H/F\n",
      "Duplicité de l'offre  Analyste assistant de données IT (H/F)\n",
      "-----\n",
      "{'_id': ObjectId('6076b0357b48d7f8dc9204f8'), 'jobsNames': 'OFFRE D’EMPLOI : MEDIA TRADER et DATA ANALYST F/H', 'companiesNames': 'Adthink', 'citiesNames': 'Lyon 9e (69)', 'jobsShortDescriptions': 'Afin de compléter notre trading desk, nous recherchons un(e) Media Trader et Data Analyst.\\nLa création des campagnes publicitaires digitales RTB de nos clients…'}\n",
      "-----\n",
      "{'_id': ObjectId('6076b0357b48d7f8dc9204f9'), 'jobsNames': 'Data analyst (H/F)', 'companiesNames': 'Intitek', 'citiesNames': 'Lyon (69)', 'jobsShortDescriptions': 'Intégré(e) au sein d’une équipe de Data analystes de note client, nous recherchons un(e) Data analyst pour une nouvelle étude.'}\n",
      "-----\n",
      "{'_id': ObjectId('6076b0357b48d7f8dc9204fa'), 'jobsNames': 'Data Analyst H/F', 'companiesNames': 'FIDUCIAL', 'citiesNames': 'Lyon (69)', 'jobsShortDescriptions': \"De formation bac+4, bac+5 en informatique, management, statistique ou en marketing avec un module data scientist / data analyst, vous disposez d'au moins 4 ans…\"}\n",
      "-----\n",
      "{'_id': ObjectId('6076b0357b48d7f8dc9204fb'), 'jobsNames': 'Data Analyst H/F', 'companiesNames': 'iziwork', 'citiesNames': 'Saint-Priest (69)', 'jobsShortDescriptions': \"Iziwork recherche pour son client basé à Saint-Priest (69800) un(e) data analyst h/f.\\n6 mois d'expérience minimum requis pour le poste.\"}\n",
      "-----\n",
      "{'_id': ObjectId('6076b0357b48d7f8dc9204fc'), 'jobsNames': 'Data Analyste H/F', 'companiesNames': 'TOOLSTATION', 'citiesNames': 'Saint-Priest (69)', 'jobsShortDescriptions': 'Nous recherchons aujourd’hui un Data Analyste (H/F) pour notre siège situé Saint-Priest (69).\\nEn tant que spécialiste base de données marketing, vous savez…'}\n",
      "-----\n",
      "{'_id': ObjectId('6076b0357b48d7f8dc9204fd'), 'jobsNames': 'DATA-ANALYST (F/H)', 'companiesNames': 'Expectra.fr', 'citiesNames': 'Saint-Priest (69)', 'jobsShortDescriptions': \"Master ou Ingénieur généraliste avec un bon niveau d'anglais.\\nAptitude à la communication, écrite et orale,.\"}\n",
      "-----\n",
      "{'_id': ObjectId('6076b0357b48d7f8dc9204fe'), 'jobsNames': 'Data Analyst H/F', 'companiesNames': 'Handicap International', 'citiesNames': 'Lyon (69)', 'jobsShortDescriptions': 'Au sein du service Datamanagement, vous assurez l’exploitation de données sur l’ensemble des projets liés à l’activité Marketing Opérationnel.'}\n",
      "-----\n",
      "{'_id': ObjectId('6076b0357b48d7f8dc9204ff'), 'jobsNames': 'Business Analyst/ Data Management (bilingue) / Freelance', 'companiesNames': 'HitBiz', 'jobsShortDescriptions': \"5 ans d'expérience pour travailler sur une mission basé à Lyon.\\nCompétence Impératives:: Data Management Fluent anglais impératif.\"}\n",
      "-----\n",
      "{'_id': ObjectId('6076b0357b48d7f8dc920500'), 'jobsNames': 'Data Analyst dans une startup', 'companiesNames': 'Licorne Society', 'citiesNames': 'Lyon (69)', 'jobsShortDescriptions': '1 - Remplis ton profil et tes attentes.\\nLe concept est simple, on envoie les plus beaux profils de Customer Success Managers à nos startups préférées (pour ne…'}\n",
      "-----\n",
      "{'_id': ObjectId('6076b0357b48d7f8dc920501'), 'jobsNames': 'Analyste de données linguistiques sur projets clients F/H', 'companiesNames': 'Notre offre ProPulse by PULSALYS', 'citiesNames': 'Lyon (69)', 'jobsShortDescriptions': 'Skilder est une start-up qui s’intéresse à l’identification des softs skills, c’est-à-dire des compétences relationnelles et comportementales à travers des jeux…'}\n",
      "-----\n",
      "{'_id': ObjectId('6076b0357b48d7f8dc920502'), 'jobsNames': 'Analyste informatique SAP MASTER DATA H/F', 'companiesNames': 'MANPOWER FRANCE', 'citiesNames': 'Lyon (69)', 'jobsShortDescriptions': 'Manpower CABINET DE RECRUTEMENT LYON SPECIALISE recherche pour son client, un acteur du secteur de la métallurgie et de la transformation des matériaux, u*n…'}\n",
      "-----\n",
      "{'_id': ObjectId('6076b0357b48d7f8dc920503'), 'jobsNames': 'Analyste assistant de données IT (H/F)', 'companiesNames': 'Manpower', 'citiesNames': 'Lyon 7e (69)', 'jobsShortDescriptions': 'Validation des formats et s’assurer du chargement sur le nouveau format avec les bonnes formules et mise en forme.'}\n",
      "-----\n",
      "{'_id': ObjectId('6076b0607b48d7f8dc920512'), 'jobsNames': 'OFFRE D’EMPLOI : MEdDIA TRADER et DATA ANALYST F/H', 'companiesNames': 'Adthink', 'citiesNames': 'Lyon 9e (69)', 'jobsShortDescriptions': 'Afin de compléter notre trading desk, nous recherchons un(e) Media Trader et Data Analyst.\\nLa création des campagnes publicitaires digitales RTB de nos clients…'}\n",
      "-----\n",
      "{'_id': ObjectId('6076b0d17b48d7f8dc92053b'), 'jobsNames': 'OFFRE D’EMPLOI : MEDIA TRdddADER et DATA ANALYST F/H', 'companiesNames': 'Adthink', 'citiesNames': 'Lyon 9e (69)', 'jobsShortDescriptions': 'Afin de compléter notre trading desk, nous recherchons un(e) Media Trader et Data Analyst.\\nLa création des campagnes publicitaires digitales RTB de nos clients…'}\n",
      "-----\n",
      "{'_id': ObjectId('6076b1687b48d7f8dc920546'), 'jobsNames': 'OFFRE D’EMPLOI : MEDIA TRdddAfedfDER et DATA ANALYST F/H', 'companiesNames': 'Adthink', 'citiesNames': 'Lyon 9e (69)', 'jobsShortDescriptions': 'Afin de compléter notre trading desk, nous recherchons un(e) Media Trader et Data Analyst.\\nLa création des campagnes publicitaires digitales RTB de nos clients…'}\n",
      "-----\n",
      "{'_id': ObjectId('6076b1a77b48d7f8dc92054b'), 'jobsNames': 'Data Analystdddd H/F', 'companiesNames': 'dddd', 'citiesNames': 'Saint-Priest (69)', 'jobsShortDescriptions': \"Iziwork recherche pour son client basé à Saint-Priest (69800) un(e) data analyst h/f.\\n6 mois d'expérience minimum requis pour le poste.\"}\n"
     ]
    }
   ],
   "source": [
    "from pprint import pprint\n",
    "\n",
    "from pymongo import MongoClient\n",
    "\n",
    "client = MongoClient(\"mongodb://localhost:27017\")\n",
    "db = client.indeed_db\n",
    "print(client.list_database_names())\n",
    "\n",
    "collection = db.indeed_collection\n",
    "data = [{'jobsNames': 'OFFRE D’EMPLOI : MEDIA TRADER et DATA ANALYST F/H', 'companiesNames': 'Adthink', 'citiesNames': 'Lyon 9e (69)', 'jobsShortDescriptions': 'Afin de compléter notre trading desk, nous recherchons un(e) Media Trader et Data Analyst.\\nLa création des campagnes publicitaires digitales RTB de nos clients…'}, {'jobsNames': 'Data analyst (H/F)', 'companiesNames': 'Intitek', 'citiesNames': 'Lyon (69)', 'jobsShortDescriptions': 'Intégré(e) au sein d’une équipe de Data analystes de note client, nous recherchons un(e) Data analyst pour une nouvelle étude.'}, {'jobsNames': 'Data Analyst H/F', 'companiesNames': 'FIDUCIAL', 'citiesNames': 'Lyon (69)', 'jobsShortDescriptions': \"De formation bac+4, bac+5 en informatique, management, statistique ou en marketing avec un module data scientist / data analyst, vous disposez d'au moins 4 ans…\"}, {'jobsNames': 'Data Analystdddd H/F', 'companiesNames': 'dddd', 'citiesNames': 'Saint-Priest (69)', 'jobsShortDescriptions': \"Iziwork recherche pour son client basé à Saint-Priest (69800) un(e) data analyst h/f.\\n6 mois d'expérience minimum requis pour le poste.\"}, {'jobsNames': 'Data Analyste H/F', 'companiesNames': 'TOOLSTATION', 'citiesNames': 'Saint-Priest (69)', 'jobsShortDescriptions': 'Nous recherchons aujourd’hui un Data Analyste (H/F) pour notre siège situé Saint-Priest (69).\\nEn tant que spécialiste base de données marketing, vous savez…'}, {'jobsNames': 'DATA-ANALYST (F/H)', 'companiesNames': 'Expectra.fr', 'citiesNames': 'Saint-Priest (69)', 'jobsShortDescriptions': \"Master ou Ingénieur généraliste avec un bon niveau d'anglais.\\nAptitude à la communication, écrite et orale,.\"}, {'jobsNames': 'Data Analyst H/F', 'companiesNames': 'Handicap International', 'citiesNames': 'Lyon (69)', 'jobsShortDescriptions': 'Au sein du service Datamanagement, vous assurez l’exploitation de données sur l’ensemble des projets liés à l’activité Marketing Opérationnel.'}, {'jobsNames': 'Business Analyst/ Data Management (bilingue) / Freelance', 'companiesNames': 'HitBiz', 'jobsShortDescriptions': \"5 ans d'expérience pour travailler sur une mission basé à Lyon.\\nCompétence Impératives:: Data Management Fluent anglais impératif.\"}, {'jobsNames': 'Data Analyst dans une startup', 'companiesNames': 'Licorne Society', 'citiesNames': 'Lyon (69)', 'jobsShortDescriptions': '1 - Remplis ton profil et tes attentes.\\nLe concept est simple, on envoie les plus beaux profils de Customer Success Managers à nos startups préférées (pour ne…'}, {'jobsNames': 'Analyste de données linguistiques sur projets clients F/H', 'companiesNames': 'Notre offre ProPulse by PULSALYS', 'citiesNames': 'Lyon (69)', 'jobsShortDescriptions': 'Skilder est une start-up qui s’intéresse à l’identification des softs skills, c’est-à-dire des compétences relationnelles et comportementales à travers des jeux…'}, {'jobsNames': 'Analyste informatique SAP MASTER DATA H/F', 'companiesNames': 'MANPOWER FRANCE', 'citiesNames': 'Lyon (69)', 'jobsShortDescriptions': 'Manpower CABINET DE RECRUTEMENT LYON SPECIALISE recherche pour son client, un acteur du secteur de la métallurgie et de la transformation des matériaux, u*n…'}, {'jobsNames': 'Analyste assistant de données IT (H/F)', 'companiesNames': 'Manpower', 'citiesNames': 'Lyon 7e (69)', 'jobsShortDescriptions': 'Validation des formats et s’assurer du chargement sur le nouveau format avec les bonnes formules et mise en forme.'}]\n",
    "\n",
    "for i in data:\n",
    "    try:\n",
    "        collection.insert_one(i)\n",
    "    except:\n",
    "        print(\"Duplicité de l'offre \",i['jobsNames'])\n",
    "\n",
    "#collection.insert_many(data)\n",
    "\n",
    "for document in collection.find() :\n",
    "    print('-----')\n",
    "    print(document)"
   ],
   "metadata": {
    "collapsed": false,
    "pycharm": {
     "name": "#%%\n"
    }
   }
  }
 ],
 "metadata": {
  "kernelspec": {
   "display_name": "Python 3",
   "language": "python",
   "name": "python3"
  },
  "language_info": {
   "codemirror_mode": {
    "name": "ipython",
    "version": 2
   },
   "file_extension": ".py",
   "mimetype": "text/x-python",
   "name": "python",
   "nbconvert_exporter": "python",
   "pygments_lexer": "ipython2",
   "version": "2.7.6"
  }
 },
 "nbformat": 4,
 "nbformat_minor": 0
}